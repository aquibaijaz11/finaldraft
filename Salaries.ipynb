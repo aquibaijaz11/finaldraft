{
  "nbformat": 4,
  "nbformat_minor": 0,
  "metadata": {
    "colab": {
      "name": "Untitled1.ipynb",
      "provenance": [],
      "authorship_tag": "ABX9TyMTpqXBE6afUCNXsNzo6O4M",
      "include_colab_link": true
    },
    "kernelspec": {
      "name": "python3",
      "display_name": "Python 3"
    }
  },
  "cells": [
    {
      "cell_type": "markdown",
      "metadata": {
        "id": "view-in-github",
        "colab_type": "text"
      },
      "source": [
        "<a href=\"https://colab.research.google.com/github/aquibaijaz11/finaldraft/blob/master/Salaries.ipynb\" target=\"_parent\"><img src=\"https://colab.research.google.com/assets/colab-badge.svg\" alt=\"Open In Colab\"/></a>"
      ]
    },
    {
      "cell_type": "markdown",
      "metadata": {
        "id": "oBtiO1gDJeQp"
      },
      "source": [
        "Importing the libraries"
      ]
    },
    {
      "cell_type": "code",
      "metadata": {
        "id": "V1gsax56Frcd"
      },
      "source": [
        "import numpy as np\r\n",
        "import pandas as pd\r\n",
        "import matplotlib.pyplot as plt\r\n",
        "import seaborn as sns"
      ],
      "execution_count": 20,
      "outputs": []
    },
    {
      "cell_type": "markdown",
      "metadata": {
        "id": "-k4UeAOWJj7g"
      },
      "source": [
        "Importing the dataset"
      ]
    },
    {
      "cell_type": "code",
      "metadata": {
        "id": "Gqkce44N9hdG"
      },
      "source": [
        "dataset = pd.read_csv('Book4.csv')"
      ],
      "execution_count": 21,
      "outputs": []
    },
    {
      "cell_type": "code",
      "metadata": {
        "colab": {
          "base_uri": "https://localhost:8080/",
          "height": 247
        },
        "id": "PsaXmdNH9pKc",
        "outputId": "d554a25a-f786-4fe5-fa3b-784d9c6ea742"
      },
      "source": [
        "dataset.head()"
      ],
      "execution_count": 22,
      "outputs": [
        {
          "output_type": "execute_result",
          "data": {
            "text/html": [
              "<div>\n",
              "<style scoped>\n",
              "    .dataframe tbody tr th:only-of-type {\n",
              "        vertical-align: middle;\n",
              "    }\n",
              "\n",
              "    .dataframe tbody tr th {\n",
              "        vertical-align: top;\n",
              "    }\n",
              "\n",
              "    .dataframe thead th {\n",
              "        text-align: right;\n",
              "    }\n",
              "</style>\n",
              "<table border=\"1\" class=\"dataframe\">\n",
              "  <thead>\n",
              "    <tr style=\"text-align: right;\">\n",
              "      <th></th>\n",
              "      <th>Types of Products</th>\n",
              "      <th>Age (blanks means we do not know their age)</th>\n",
              "      <th>Gender (Male is 1)</th>\n",
              "      <th>Family size</th>\n",
              "      <th>Membership (with membership is 1)</th>\n",
              "      <th>Discount card type (0 means no card and there are three discount cards</th>\n",
              "      <th>Perchase amount ($)</th>\n",
              "    </tr>\n",
              "  </thead>\n",
              "  <tbody>\n",
              "    <tr>\n",
              "      <th>0</th>\n",
              "      <td>2</td>\n",
              "      <td>30.00</td>\n",
              "      <td>0</td>\n",
              "      <td>3</td>\n",
              "      <td>0</td>\n",
              "      <td>2</td>\n",
              "      <td>837</td>\n",
              "    </tr>\n",
              "    <tr>\n",
              "      <th>1</th>\n",
              "      <td>2</td>\n",
              "      <td>37.00</td>\n",
              "      <td>1</td>\n",
              "      <td>6</td>\n",
              "      <td>1</td>\n",
              "      <td>2</td>\n",
              "      <td>1533</td>\n",
              "    </tr>\n",
              "    <tr>\n",
              "      <th>2</th>\n",
              "      <td>3</td>\n",
              "      <td>37.00</td>\n",
              "      <td>0</td>\n",
              "      <td>6</td>\n",
              "      <td>1</td>\n",
              "      <td>1</td>\n",
              "      <td>1577</td>\n",
              "    </tr>\n",
              "    <tr>\n",
              "      <th>3</th>\n",
              "      <td>4</td>\n",
              "      <td>23.00</td>\n",
              "      <td>1</td>\n",
              "      <td>2</td>\n",
              "      <td>1</td>\n",
              "      <td>3</td>\n",
              "      <td>1055</td>\n",
              "    </tr>\n",
              "    <tr>\n",
              "      <th>4</th>\n",
              "      <td>5</td>\n",
              "      <td>39.00</td>\n",
              "      <td>1</td>\n",
              "      <td>1</td>\n",
              "      <td>0</td>\n",
              "      <td>2</td>\n",
              "      <td>1279</td>\n",
              "    </tr>\n",
              "  </tbody>\n",
              "</table>\n",
              "</div>"
            ],
            "text/plain": [
              "   Types of Products  ...  Perchase amount ($)\n",
              "0                  2  ...                  837\n",
              "1                  2  ...                 1533\n",
              "2                  3  ...                 1577\n",
              "3                  4  ...                 1055\n",
              "4                  5  ...                 1279\n",
              "\n",
              "[5 rows x 7 columns]"
            ]
          },
          "metadata": {
            "tags": []
          },
          "execution_count": 22
        }
      ]
    },
    {
      "cell_type": "code",
      "metadata": {
        "colab": {
          "base_uri": "https://localhost:8080/",
          "height": 337
        },
        "id": "-hZxOplt9rVL",
        "outputId": "7c376bee-13f4-4cd5-8aad-56bdef83b143"
      },
      "source": [
        "dataset.describe()"
      ],
      "execution_count": 23,
      "outputs": [
        {
          "output_type": "execute_result",
          "data": {
            "text/html": [
              "<div>\n",
              "<style scoped>\n",
              "    .dataframe tbody tr th:only-of-type {\n",
              "        vertical-align: middle;\n",
              "    }\n",
              "\n",
              "    .dataframe tbody tr th {\n",
              "        vertical-align: top;\n",
              "    }\n",
              "\n",
              "    .dataframe thead th {\n",
              "        text-align: right;\n",
              "    }\n",
              "</style>\n",
              "<table border=\"1\" class=\"dataframe\">\n",
              "  <thead>\n",
              "    <tr style=\"text-align: right;\">\n",
              "      <th></th>\n",
              "      <th>Types of Products</th>\n",
              "      <th>Age (blanks means we do not know their age)</th>\n",
              "      <th>Gender (Male is 1)</th>\n",
              "      <th>Family size</th>\n",
              "      <th>Membership (with membership is 1)</th>\n",
              "      <th>Discount card type (0 means no card and there are three discount cards</th>\n",
              "      <th>Perchase amount ($)</th>\n",
              "    </tr>\n",
              "  </thead>\n",
              "  <tbody>\n",
              "    <tr>\n",
              "      <th>count</th>\n",
              "      <td>500.00</td>\n",
              "      <td>497.00</td>\n",
              "      <td>500.00</td>\n",
              "      <td>500.00</td>\n",
              "      <td>500.00</td>\n",
              "      <td>500.00</td>\n",
              "      <td>500.00</td>\n",
              "    </tr>\n",
              "    <tr>\n",
              "      <th>mean</th>\n",
              "      <td>3.23</td>\n",
              "      <td>47.19</td>\n",
              "      <td>0.49</td>\n",
              "      <td>3.43</td>\n",
              "      <td>0.51</td>\n",
              "      <td>1.51</td>\n",
              "      <td>1178.55</td>\n",
              "    </tr>\n",
              "    <tr>\n",
              "      <th>std</th>\n",
              "      <td>1.29</td>\n",
              "      <td>17.23</td>\n",
              "      <td>0.50</td>\n",
              "      <td>1.72</td>\n",
              "      <td>0.50</td>\n",
              "      <td>1.09</td>\n",
              "      <td>295.18</td>\n",
              "    </tr>\n",
              "    <tr>\n",
              "      <th>min</th>\n",
              "      <td>1.00</td>\n",
              "      <td>16.00</td>\n",
              "      <td>0.00</td>\n",
              "      <td>1.00</td>\n",
              "      <td>0.00</td>\n",
              "      <td>0.00</td>\n",
              "      <td>672.00</td>\n",
              "    </tr>\n",
              "    <tr>\n",
              "      <th>25%</th>\n",
              "      <td>2.00</td>\n",
              "      <td>33.00</td>\n",
              "      <td>0.00</td>\n",
              "      <td>2.00</td>\n",
              "      <td>0.00</td>\n",
              "      <td>1.00</td>\n",
              "      <td>919.75</td>\n",
              "    </tr>\n",
              "    <tr>\n",
              "      <th>50%</th>\n",
              "      <td>3.00</td>\n",
              "      <td>47.00</td>\n",
              "      <td>0.00</td>\n",
              "      <td>3.00</td>\n",
              "      <td>1.00</td>\n",
              "      <td>2.00</td>\n",
              "      <td>1202.50</td>\n",
              "    </tr>\n",
              "    <tr>\n",
              "      <th>75%</th>\n",
              "      <td>4.00</td>\n",
              "      <td>61.00</td>\n",
              "      <td>1.00</td>\n",
              "      <td>5.00</td>\n",
              "      <td>1.00</td>\n",
              "      <td>2.00</td>\n",
              "      <td>1430.25</td>\n",
              "    </tr>\n",
              "    <tr>\n",
              "      <th>max</th>\n",
              "      <td>5.00</td>\n",
              "      <td>78.00</td>\n",
              "      <td>1.00</td>\n",
              "      <td>6.00</td>\n",
              "      <td>1.00</td>\n",
              "      <td>3.00</td>\n",
              "      <td>1669.00</td>\n",
              "    </tr>\n",
              "  </tbody>\n",
              "</table>\n",
              "</div>"
            ],
            "text/plain": [
              "       Types of Products  ...  Perchase amount ($)\n",
              "count             500.00  ...               500.00\n",
              "mean                3.23  ...              1178.55\n",
              "std                 1.29  ...               295.18\n",
              "min                 1.00  ...               672.00\n",
              "25%                 2.00  ...               919.75\n",
              "50%                 3.00  ...              1202.50\n",
              "75%                 4.00  ...              1430.25\n",
              "max                 5.00  ...              1669.00\n",
              "\n",
              "[8 rows x 7 columns]"
            ]
          },
          "metadata": {
            "tags": []
          },
          "execution_count": 23
        }
      ]
    },
    {
      "cell_type": "code",
      "metadata": {
        "id": "0Sfnt2Sb-PrD"
      },
      "source": [
        "X = dataset.iloc[:, :-1].values\r\n",
        "y = dataset.iloc[:, -1].values"
      ],
      "execution_count": 24,
      "outputs": []
    },
    {
      "cell_type": "code",
      "metadata": {
        "colab": {
          "base_uri": "https://localhost:8080/"
        },
        "id": "7vnpa1eEA1td",
        "outputId": "f492e1f0-5540-462a-8292-4a67ba18b65e"
      },
      "source": [
        "print(X)"
      ],
      "execution_count": 25,
      "outputs": [
        {
          "output_type": "stream",
          "text": [
            "[[ 2. 30.  0.  3.  0.  2.]\n",
            " [ 2. 37.  1.  6.  1.  2.]\n",
            " [ 3. 37.  0.  6.  1.  1.]\n",
            " ...\n",
            " [ 2. 38.  0.  5.  0.  0.]\n",
            " [ 4. 36.  1.  2.  0.  2.]\n",
            " [ 2. 58.  0.  6.  0.  0.]]\n"
          ],
          "name": "stdout"
        }
      ]
    },
    {
      "cell_type": "code",
      "metadata": {
        "colab": {
          "base_uri": "https://localhost:8080/"
        },
        "id": "rfIlgjBcA3QK",
        "outputId": "b5c22b7c-ce34-4871-915e-a79547c883cd"
      },
      "source": [
        "print(y)"
      ],
      "execution_count": 26,
      "outputs": [
        {
          "output_type": "stream",
          "text": [
            "[ 837 1533 1577 1055 1279 1662  758 1015 1277  885  901  757  703 1150\n",
            "  971 1472 1235 1183 1008  880  683 1137 1309 1313  877 1547  694 1551\n",
            " 1279 1121 1248 1200  972 1403 1467  895 1181  833 1198 1105  980 1238\n",
            " 1280  822 1356 1295 1308  913 1257  974 1398 1431  817 1519 1393 1638\n",
            " 1383  978 1384 1052 1518  821  981 1275 1627  684 1214  902 1373  758\n",
            " 1492 1274 1523  856 1513 1373 1400  703 1537 1632 1579 1458  923  939\n",
            "  992 1027 1345 1622 1107 1163 1585  694 1311  923 1312 1137 1185 1480\n",
            "  756 1510  804  843  678 1661  733 1508 1547  822  856 1567 1328  872\n",
            "  724 1317  787 1043 1550  892  719  861 1517  949 1008 1592 1567  949\n",
            "  925  979 1307 1049 1563 1558 1205 1148  822 1313  717 1117  859  986\n",
            " 1522  738 1381  781 1498 1389  725  785 1608 1003 1097  854 1361 1339\n",
            "  898 1264  977 1079 1538  905  940  809 1636 1293 1085 1390 1025 1185\n",
            "  867  764 1458 1086  981  722 1428 1414  984 1668 1005 1614 1071  907\n",
            " 1094 1007  672 1489 1029 1637 1013 1145  897  923 1309 1332 1509 1368\n",
            "  738  943 1416 1135  853  685  885  753 1595  680 1231  731 1549 1304\n",
            " 1423 1386 1619  803 1356 1633  759  716  707 1044  927 1638  781  946\n",
            "  920 1347 1244  841 1236  835 1156  930 1628 1273 1210 1021 1507 1432\n",
            " 1586 1602  842 1606 1311 1364  718 1550 1559  952 1217 1491  768 1222\n",
            "  756  705  999  795 1563  738 1436 1178 1435  753 1438 1242 1425 1077\n",
            " 1038 1333 1643 1453 1316  799  790 1035 1528 1215 1613 1662 1413 1088\n",
            "  920 1439 1583 1316 1313 1150 1393 1197 1307 1547 1213 1249  970 1039\n",
            " 1485 1648  760  803 1501 1535  709  873 1279 1002 1605 1211 1466 1014\n",
            " 1330 1309 1656 1073 1022 1345 1049  878 1197 1430  836  785 1503  972\n",
            " 1231 1333 1258  691 1554 1634 1428 1312 1266  884 1193 1481 1364  797\n",
            "  777  911 1048 1242  678 1317 1060  846  962 1149 1598  865  785 1663\n",
            " 1229 1098  782 1367  678 1114 1499 1363  930 1591 1506 1622 1528 1037\n",
            " 1362  718 1488  677 1079 1065  729  785 1244 1169 1425 1248 1457  946\n",
            " 1193 1640 1237 1618 1510 1582 1059 1240 1276  680  672 1367  931  815\n",
            " 1354  907 1016 1064 1268  686 1603 1041 1566  762 1494  937 1401 1004\n",
            " 1586 1032 1506  988 1326  973 1493  725 1642 1589 1527 1259 1275 1530\n",
            " 1537 1669  906 1510 1611 1497  988 1435  742 1141  690 1193 1572 1246\n",
            "  860 1397 1298 1617 1408  854 1389  685 1023 1040 1275 1068 1625 1377\n",
            " 1663 1247 1458 1565 1638  893 1235  786 1199  879 1235 1031 1396 1494\n",
            "  762 1345  714  919  875 1271  870 1460  785 1275 1669 1600  838 1424\n",
            " 1086 1386 1485 1109 1223 1181 1138 1094 1297 1319 1329 1658 1320  695\n",
            " 1078 1137 1624  815  864 1614  890 1336 1119 1071]\n"
          ],
          "name": "stdout"
        }
      ]
    },
    {
      "cell_type": "markdown",
      "metadata": {
        "id": "9lrxfOKPJnT_"
      },
      "source": [
        "Filling the missing values"
      ]
    },
    {
      "cell_type": "code",
      "metadata": {
        "id": "oa-_1F6DA4wj"
      },
      "source": [
        "from sklearn.impute import SimpleImputer\r\n",
        "imputer = SimpleImputer(missing_values=np.nan, strategy='mean')\r\n",
        "imputer.fit(X[:, 1:2])\r\n",
        "X[:, 1:2] = imputer.transform(X[:, 1:2])"
      ],
      "execution_count": 27,
      "outputs": []
    },
    {
      "cell_type": "code",
      "metadata": {
        "colab": {
          "base_uri": "https://localhost:8080/"
        },
        "id": "8x6GyrK1EKrA",
        "outputId": "1bc95bac-b4d2-4e52-bce4-2cf2fe9cd591"
      },
      "source": [
        "print(X)"
      ],
      "execution_count": 28,
      "outputs": [
        {
          "output_type": "stream",
          "text": [
            "[[ 2. 30.  0.  3.  0.  2.]\n",
            " [ 2. 37.  1.  6.  1.  2.]\n",
            " [ 3. 37.  0.  6.  1.  1.]\n",
            " ...\n",
            " [ 2. 38.  0.  5.  0.  0.]\n",
            " [ 4. 36.  1.  2.  0.  2.]\n",
            " [ 2. 58.  0.  6.  0.  0.]]\n"
          ],
          "name": "stdout"
        }
      ]
    },
    {
      "cell_type": "markdown",
      "metadata": {
        "id": "BgG2e6lyJpxX"
      },
      "source": [
        "Splitiing the dataset into training set and test set"
      ]
    },
    {
      "cell_type": "code",
      "metadata": {
        "id": "FhCe06TFEMuo"
      },
      "source": [
        "from sklearn.model_selection import train_test_split\r\n",
        "X_train, X_test, y_train, y_test = train_test_split(X, y, test_size = 0.3, random_state = 0)"
      ],
      "execution_count": 29,
      "outputs": []
    },
    {
      "cell_type": "markdown",
      "metadata": {
        "id": "gQ0sn1OEJtTn"
      },
      "source": [
        "Creating a multiple linear regressor model"
      ]
    },
    {
      "cell_type": "code",
      "metadata": {
        "colab": {
          "base_uri": "https://localhost:8080/"
        },
        "id": "QOlciBXcEpC5",
        "outputId": "5c0ffc51-49fa-483a-ac02-b5c949d82289"
      },
      "source": [
        "from sklearn.linear_model import LinearRegression\r\n",
        "regressor = LinearRegression()\r\n",
        "regressor.fit(X_train, y_train)"
      ],
      "execution_count": 30,
      "outputs": [
        {
          "output_type": "execute_result",
          "data": {
            "text/plain": [
              "LinearRegression()"
            ]
          },
          "metadata": {
            "tags": []
          },
          "execution_count": 30
        }
      ]
    },
    {
      "cell_type": "markdown",
      "metadata": {
        "id": "ezY_gykTJx5I"
      },
      "source": [
        "Predicting the results"
      ]
    },
    {
      "cell_type": "code",
      "metadata": {
        "colab": {
          "base_uri": "https://localhost:8080/"
        },
        "id": "weizD5A7EsXx",
        "outputId": "ef029855-0b3b-41a6-b4f4-0fb76eb7df39"
      },
      "source": [
        "y_pred = regressor.predict(X_test)\r\n",
        "np.set_printoptions(precision=2)\r\n",
        "print(np.concatenate((y_pred.reshape(len(y_pred),1), y_test.reshape(len(y_test),1)),1))"
      ],
      "execution_count": 31,
      "outputs": [
        {
          "output_type": "stream",
          "text": [
            "[[1245.24 1585.  ]\n",
            " [1180.19  999.  ]\n",
            " [1198.75 1316.  ]\n",
            " [1179.87 1068.  ]\n",
            " [1245.   1494.  ]\n",
            " [1244.57 1472.  ]\n",
            " [1203.34 1197.  ]\n",
            " [1310.54  695.  ]\n",
            " [1144.11  905.  ]\n",
            " [1302.6  1339.  ]\n",
            " [1164.86 1606.  ]\n",
            " [1081.26  768.  ]\n",
            " [1218.78  931.  ]\n",
            " [1213.65 1547.  ]\n",
            " [1094.01 1086.  ]\n",
            " [1243.3  1312.  ]\n",
            " [1210.53  870.  ]\n",
            " [1183.39 1114.  ]\n",
            " [1147.87  898.  ]\n",
            " [1203.    833.  ]\n",
            " [1177.57  680.  ]\n",
            " [1202.58 1488.  ]\n",
            " [1159.44  842.  ]\n",
            " [1208.35  856.  ]\n",
            " [1202.46 1295.  ]\n",
            " [1218.37 1408.  ]\n",
            " [1240.95 1137.  ]\n",
            " [1196.1   677.  ]\n",
            " [1286.51 1185.  ]\n",
            " [1092.29 1273.  ]\n",
            " [1273.89  742.  ]\n",
            " [1181.71  719.  ]\n",
            " [1268.84 1567.  ]\n",
            " [1065.68  923.  ]\n",
            " [1060.3  1425.  ]\n",
            " [1193.78 1624.  ]\n",
            " [1208.34 1073.  ]\n",
            " [1170.41 1565.  ]\n",
            " [1166.53 1367.  ]\n",
            " [1208.95 1586.  ]\n",
            " [1266.66 1231.  ]\n",
            " [1191.77 1308.  ]\n",
            " [1104.    937.  ]\n",
            " [1192.63 1638.  ]\n",
            " [1138.53 1400.  ]\n",
            " [1129.   1533.  ]\n",
            " [1156.49  803.  ]\n",
            " [1223.91  691.  ]\n",
            " [1251.54 1275.  ]\n",
            " [1164.86  678.  ]\n",
            " [1162.27 1037.  ]\n",
            " [1200.51 1458.  ]\n",
            " [1090.5   846.  ]\n",
            " [1198.95 1498.  ]\n",
            " [1297.27 1205.  ]\n",
            " [1071.45  703.  ]\n",
            " [1170.03 1634.  ]\n",
            " [1202.73  722.  ]\n",
            " [1203.14  920.  ]\n",
            " [1160.59 1060.  ]\n",
            " [1165.29 1537.  ]\n",
            " [1106.18 1613.  ]\n",
            " [1217.65  680.  ]\n",
            " [1251.56 1497.  ]\n",
            " [1253.94  873.  ]\n",
            " [1168.82  738.  ]\n",
            " [1169.61  901.  ]\n",
            " [1185.67 1460.  ]\n",
            " [1257.33  799.  ]\n",
            " [1277.68 1373.  ]\n",
            " [1186.68 1381.  ]\n",
            " [1068.59  684.  ]\n",
            " [1121.83  678.  ]\n",
            " [1253.76 1297.  ]\n",
            " [1293.1  1414.  ]\n",
            " [1201.93 1528.  ]\n",
            " [1182.74 1425.  ]\n",
            " [1080.87  804.  ]\n",
            " [1228.08 1137.  ]\n",
            " [1212.52 1648.  ]\n",
            " [1187.46  709.  ]\n",
            " [1308.68 1021.  ]\n",
            " [1245.03 1424.  ]\n",
            " [1150.94 1044.  ]\n",
            " [1165.1  1266.  ]\n",
            " [1136.47 1554.  ]\n",
            " [1245.25 1669.  ]\n",
            " [1181.08 1079.  ]\n",
            " [1263.9   785.  ]\n",
            " [1185.61 1393.  ]\n",
            " [1312.62  927.  ]\n",
            " [1143.19 1494.  ]\n",
            " [1155.03 1640.  ]\n",
            " [1162.88  853.  ]\n",
            " [1124.78 1614.  ]\n",
            " [1247.23 1244.  ]\n",
            " [1121.88 1383.  ]\n",
            " [1210.12 1389.  ]\n",
            " [1177.81 1518.  ]\n",
            " [1168.68 1549.  ]\n",
            " [1190.48  822.  ]\n",
            " [1222.34  777.  ]\n",
            " [1181.51 1274.  ]\n",
            " [1135.63  838.  ]\n",
            " [1250.15  758.  ]\n",
            " [1171.8  1493.  ]\n",
            " [1112.09 1317.  ]\n",
            " [1123.57 1507.  ]\n",
            " [1275.02 1535.  ]\n",
            " [1051.58 1264.  ]\n",
            " [1230.85  790.  ]\n",
            " [1146.12 1015.  ]\n",
            " [1189.86 1117.  ]\n",
            " [1224.32 1277.  ]\n",
            " [1192.06 1345.  ]\n",
            " [1207.9  1572.  ]\n",
            " [1239.75 1248.  ]\n",
            " [1076.99 1313.  ]\n",
            " [1227.25 1423.  ]\n",
            " [1244.62 1013.  ]\n",
            " [1121.1   690.  ]\n",
            " [1118.64  974.  ]\n",
            " [1146.9   822.  ]\n",
            " [1139.45  718.  ]\n",
            " [1193.1   725.  ]\n",
            " [1159.38 1602.  ]\n",
            " [1194.85 1052.  ]\n",
            " [1145.92 1586.  ]\n",
            " [1202.5   815.  ]\n",
            " [1130.83  973.  ]\n",
            " [1298.28 1319.  ]\n",
            " [1240.09  835.  ]\n",
            " [1231.83  803.  ]\n",
            " [1221.65 1638.  ]\n",
            " [1207.44 1039.  ]\n",
            " [1296.55 1078.  ]\n",
            " [1154.52 1235.  ]\n",
            " [1214.82  879.  ]\n",
            " [1191.75  893.  ]\n",
            " [1192.86 1029.  ]\n",
            " [1052.17 1509.  ]\n",
            " [1305.81  817.  ]\n",
            " [1189.   1513.  ]\n",
            " [1270.15  694.  ]\n",
            " [1179.95 1320.  ]\n",
            " [1157.94 1279.  ]\n",
            " [1136.54  836.  ]\n",
            " [1100.96  884.  ]\n",
            " [1231.25 1550.  ]\n",
            " [1216.5  1662.  ]]\n"
          ],
          "name": "stdout"
        }
      ]
    },
    {
      "cell_type": "markdown",
      "metadata": {
        "id": "NnjhoCczJ1w3"
      },
      "source": [
        "Comparing the actual and predcited results"
      ]
    },
    {
      "cell_type": "code",
      "metadata": {
        "colab": {
          "base_uri": "https://localhost:8080/",
          "height": 406
        },
        "id": "-A2c4B8vEu5Z",
        "outputId": "28c81e5a-8d48-4102-9f86-333238deb8ff"
      },
      "source": [
        "dataframe = pd.DataFrame({'Actual': y_test, 'Predicted': y_pred})  \r\n",
        "dataframe"
      ],
      "execution_count": 32,
      "outputs": [
        {
          "output_type": "execute_result",
          "data": {
            "text/html": [
              "<div>\n",
              "<style scoped>\n",
              "    .dataframe tbody tr th:only-of-type {\n",
              "        vertical-align: middle;\n",
              "    }\n",
              "\n",
              "    .dataframe tbody tr th {\n",
              "        vertical-align: top;\n",
              "    }\n",
              "\n",
              "    .dataframe thead th {\n",
              "        text-align: right;\n",
              "    }\n",
              "</style>\n",
              "<table border=\"1\" class=\"dataframe\">\n",
              "  <thead>\n",
              "    <tr style=\"text-align: right;\">\n",
              "      <th></th>\n",
              "      <th>Actual</th>\n",
              "      <th>Predicted</th>\n",
              "    </tr>\n",
              "  </thead>\n",
              "  <tbody>\n",
              "    <tr>\n",
              "      <th>0</th>\n",
              "      <td>1585</td>\n",
              "      <td>1245.24</td>\n",
              "    </tr>\n",
              "    <tr>\n",
              "      <th>1</th>\n",
              "      <td>999</td>\n",
              "      <td>1180.19</td>\n",
              "    </tr>\n",
              "    <tr>\n",
              "      <th>2</th>\n",
              "      <td>1316</td>\n",
              "      <td>1198.75</td>\n",
              "    </tr>\n",
              "    <tr>\n",
              "      <th>3</th>\n",
              "      <td>1068</td>\n",
              "      <td>1179.87</td>\n",
              "    </tr>\n",
              "    <tr>\n",
              "      <th>4</th>\n",
              "      <td>1494</td>\n",
              "      <td>1245.00</td>\n",
              "    </tr>\n",
              "    <tr>\n",
              "      <th>...</th>\n",
              "      <td>...</td>\n",
              "      <td>...</td>\n",
              "    </tr>\n",
              "    <tr>\n",
              "      <th>145</th>\n",
              "      <td>1279</td>\n",
              "      <td>1157.94</td>\n",
              "    </tr>\n",
              "    <tr>\n",
              "      <th>146</th>\n",
              "      <td>836</td>\n",
              "      <td>1136.54</td>\n",
              "    </tr>\n",
              "    <tr>\n",
              "      <th>147</th>\n",
              "      <td>884</td>\n",
              "      <td>1100.96</td>\n",
              "    </tr>\n",
              "    <tr>\n",
              "      <th>148</th>\n",
              "      <td>1550</td>\n",
              "      <td>1231.25</td>\n",
              "    </tr>\n",
              "    <tr>\n",
              "      <th>149</th>\n",
              "      <td>1662</td>\n",
              "      <td>1216.50</td>\n",
              "    </tr>\n",
              "  </tbody>\n",
              "</table>\n",
              "<p>150 rows × 2 columns</p>\n",
              "</div>"
            ],
            "text/plain": [
              "     Actual  Predicted\n",
              "0      1585    1245.24\n",
              "1       999    1180.19\n",
              "2      1316    1198.75\n",
              "3      1068    1179.87\n",
              "4      1494    1245.00\n",
              "..      ...        ...\n",
              "145    1279    1157.94\n",
              "146     836    1136.54\n",
              "147     884    1100.96\n",
              "148    1550    1231.25\n",
              "149    1662    1216.50\n",
              "\n",
              "[150 rows x 2 columns]"
            ]
          },
          "metadata": {
            "tags": []
          },
          "execution_count": 32
        }
      ]
    },
    {
      "cell_type": "markdown",
      "metadata": {
        "id": "TGL1rDjRJ5PP"
      },
      "source": [
        "Checking the accuracy of the model"
      ]
    },
    {
      "cell_type": "code",
      "metadata": {
        "colab": {
          "base_uri": "https://localhost:8080/"
        },
        "id": "Oc7AiokpEz1I",
        "outputId": "0b13797b-da93-4ed3-8ebf-c1bc3239ae1d"
      },
      "source": [
        "from sklearn.model_selection import cross_val_score\r\n",
        "accuracies = cross_val_score(estimator = regressor, X = X_train, y = y_train, cv = 3)\r\n",
        "print(\"Accuracy: {} %\".format(accuracies.mean()*100))\r\n",
        "print(\"Standard Deviation: {} %\".format(accuracies.std()*100))"
      ],
      "execution_count": 33,
      "outputs": [
        {
          "output_type": "stream",
          "text": [
            "Accuracy: -1.1396389568608702 %\n",
            "Standard Deviation: 4.510521478529371 %\n"
          ],
          "name": "stdout"
        }
      ]
    },
    {
      "cell_type": "markdown",
      "metadata": {
        "id": "xdwZtUe5J7t3"
      },
      "source": [
        "Installing Lazy Regressor"
      ]
    },
    {
      "cell_type": "code",
      "metadata": {
        "colab": {
          "base_uri": "https://localhost:8080/"
        },
        "id": "YNFmuSERE3-5",
        "outputId": "4af184ea-e140-415e-9fa4-8035bc620fdf"
      },
      "source": [
        "!pip install lazypredict"
      ],
      "execution_count": 34,
      "outputs": [
        {
          "output_type": "stream",
          "text": [
            "Requirement already satisfied: lazypredict in /usr/local/lib/python3.6/dist-packages (0.2.9)\n",
            "Requirement already satisfied: pytest==5.4.3 in /usr/local/lib/python3.6/dist-packages (from lazypredict) (5.4.3)\n",
            "Requirement already satisfied: numpy==1.19.1 in /usr/local/lib/python3.6/dist-packages (from lazypredict) (1.19.1)\n",
            "Requirement already satisfied: pandas==1.0.5 in /usr/local/lib/python3.6/dist-packages (from lazypredict) (1.0.5)\n",
            "Requirement already satisfied: PyYAML==5.3.1 in /usr/local/lib/python3.6/dist-packages (from lazypredict) (5.3.1)\n",
            "Requirement already satisfied: six==1.15.0 in /usr/local/lib/python3.6/dist-packages (from lazypredict) (1.15.0)\n",
            "Requirement already satisfied: joblib==1.0.0 in /usr/local/lib/python3.6/dist-packages (from lazypredict) (1.0.0)\n",
            "Requirement already satisfied: xgboost==1.1.1 in /usr/local/lib/python3.6/dist-packages (from lazypredict) (1.1.1)\n",
            "Requirement already satisfied: lightgbm==2.3.1 in /usr/local/lib/python3.6/dist-packages (from lazypredict) (2.3.1)\n",
            "Requirement already satisfied: scikit-learn==0.23.1 in /usr/local/lib/python3.6/dist-packages (from lazypredict) (0.23.1)\n",
            "Requirement already satisfied: click==7.1.2 in /usr/local/lib/python3.6/dist-packages (from lazypredict) (7.1.2)\n",
            "Requirement already satisfied: scipy==1.5.4 in /usr/local/lib/python3.6/dist-packages (from lazypredict) (1.5.4)\n",
            "Requirement already satisfied: tqdm==4.56.0 in /usr/local/lib/python3.6/dist-packages (from lazypredict) (4.56.0)\n",
            "Requirement already satisfied: py>=1.5.0 in /usr/local/lib/python3.6/dist-packages (from pytest==5.4.3->lazypredict) (1.10.0)\n",
            "Requirement already satisfied: wcwidth in /usr/local/lib/python3.6/dist-packages (from pytest==5.4.3->lazypredict) (0.2.5)\n",
            "Requirement already satisfied: packaging in /usr/local/lib/python3.6/dist-packages (from pytest==5.4.3->lazypredict) (20.9)\n",
            "Requirement already satisfied: attrs>=17.4.0 in /usr/local/lib/python3.6/dist-packages (from pytest==5.4.3->lazypredict) (20.3.0)\n",
            "Requirement already satisfied: more-itertools>=4.0.0 in /usr/local/lib/python3.6/dist-packages (from pytest==5.4.3->lazypredict) (8.7.0)\n",
            "Requirement already satisfied: importlib-metadata>=0.12; python_version < \"3.8\" in /usr/local/lib/python3.6/dist-packages (from pytest==5.4.3->lazypredict) (3.4.0)\n",
            "Requirement already satisfied: pluggy<1.0,>=0.12 in /usr/local/lib/python3.6/dist-packages (from pytest==5.4.3->lazypredict) (0.13.1)\n",
            "Requirement already satisfied: pytz>=2017.2 in /usr/local/lib/python3.6/dist-packages (from pandas==1.0.5->lazypredict) (2018.9)\n",
            "Requirement already satisfied: python-dateutil>=2.6.1 in /usr/local/lib/python3.6/dist-packages (from pandas==1.0.5->lazypredict) (2.8.1)\n",
            "Requirement already satisfied: threadpoolctl>=2.0.0 in /usr/local/lib/python3.6/dist-packages (from scikit-learn==0.23.1->lazypredict) (2.1.0)\n",
            "Requirement already satisfied: pyparsing>=2.0.2 in /usr/local/lib/python3.6/dist-packages (from packaging->pytest==5.4.3->lazypredict) (2.4.7)\n",
            "Requirement already satisfied: typing-extensions>=3.6.4; python_version < \"3.8\" in /usr/local/lib/python3.6/dist-packages (from importlib-metadata>=0.12; python_version < \"3.8\"->pytest==5.4.3->lazypredict) (3.7.4.3)\n",
            "Requirement already satisfied: zipp>=0.5 in /usr/local/lib/python3.6/dist-packages (from importlib-metadata>=0.12; python_version < \"3.8\"->pytest==5.4.3->lazypredict) (3.4.0)\n"
          ],
          "name": "stdout"
        }
      ]
    },
    {
      "cell_type": "markdown",
      "metadata": {
        "id": "SZRZkGIBJ_Wf"
      },
      "source": [
        "Importing the lazy regressor"
      ]
    },
    {
      "cell_type": "code",
      "metadata": {
        "colab": {
          "base_uri": "https://localhost:8080/"
        },
        "id": "NADDPOxqFFEE",
        "outputId": "2b5b1d82-ea1e-415d-e8a6-d08ec477fe94"
      },
      "source": [
        "from lazypredict.Supervised import LazyRegressor as LR\r\n",
        "lazy_pred = LR()\r\n",
        "regressor, predictions = lazy_pred.fit(X_train, X_test, y_train, y_test)"
      ],
      "execution_count": 35,
      "outputs": [
        {
          "output_type": "stream",
          "text": [
            "100%|██████████| 42/42 [00:02<00:00, 16.88it/s]\n"
          ],
          "name": "stderr"
        }
      ]
    },
    {
      "cell_type": "markdown",
      "metadata": {
        "id": "dCKcQZLNKBqB"
      },
      "source": [
        "Displaying the results of the lazy regressor model"
      ]
    },
    {
      "cell_type": "code",
      "metadata": {
        "colab": {
          "base_uri": "https://localhost:8080/",
          "height": 1000
        },
        "id": "9Ztv8zhSFbzq",
        "outputId": "8b8e4969-fb32-4ccf-f4ed-9a96d4ad25bc"
      },
      "source": [
        "regressor"
      ],
      "execution_count": 36,
      "outputs": [
        {
          "output_type": "execute_result",
          "data": {
            "text/html": [
              "<div>\n",
              "<style scoped>\n",
              "    .dataframe tbody tr th:only-of-type {\n",
              "        vertical-align: middle;\n",
              "    }\n",
              "\n",
              "    .dataframe tbody tr th {\n",
              "        vertical-align: top;\n",
              "    }\n",
              "\n",
              "    .dataframe thead th {\n",
              "        text-align: right;\n",
              "    }\n",
              "</style>\n",
              "<table border=\"1\" class=\"dataframe\">\n",
              "  <thead>\n",
              "    <tr style=\"text-align: right;\">\n",
              "      <th></th>\n",
              "      <th>Adjusted R-Squared</th>\n",
              "      <th>R-Squared</th>\n",
              "      <th>RMSE</th>\n",
              "      <th>Time Taken</th>\n",
              "    </tr>\n",
              "    <tr>\n",
              "      <th>Model</th>\n",
              "      <th></th>\n",
              "      <th></th>\n",
              "      <th></th>\n",
              "      <th></th>\n",
              "    </tr>\n",
              "  </thead>\n",
              "  <tbody>\n",
              "    <tr>\n",
              "      <th>OrthogonalMatchingPursuit</th>\n",
              "      <td>-0.03</td>\n",
              "      <td>0.01</td>\n",
              "      <td>314.21</td>\n",
              "      <td>0.01</td>\n",
              "    </tr>\n",
              "    <tr>\n",
              "      <th>LassoLars</th>\n",
              "      <td>-0.04</td>\n",
              "      <td>-0.00</td>\n",
              "      <td>315.91</td>\n",
              "      <td>0.02</td>\n",
              "    </tr>\n",
              "    <tr>\n",
              "      <th>DummyRegressor</th>\n",
              "      <td>-0.05</td>\n",
              "      <td>-0.00</td>\n",
              "      <td>316.31</td>\n",
              "      <td>0.01</td>\n",
              "    </tr>\n",
              "    <tr>\n",
              "      <th>NuSVR</th>\n",
              "      <td>-0.05</td>\n",
              "      <td>-0.01</td>\n",
              "      <td>316.41</td>\n",
              "      <td>0.03</td>\n",
              "    </tr>\n",
              "    <tr>\n",
              "      <th>ElasticNetCV</th>\n",
              "      <td>-0.05</td>\n",
              "      <td>-0.01</td>\n",
              "      <td>316.54</td>\n",
              "      <td>0.06</td>\n",
              "    </tr>\n",
              "    <tr>\n",
              "      <th>GeneralizedLinearRegressor</th>\n",
              "      <td>-0.05</td>\n",
              "      <td>-0.01</td>\n",
              "      <td>316.78</td>\n",
              "      <td>0.03</td>\n",
              "    </tr>\n",
              "    <tr>\n",
              "      <th>TweedieRegressor</th>\n",
              "      <td>-0.05</td>\n",
              "      <td>-0.01</td>\n",
              "      <td>316.78</td>\n",
              "      <td>0.01</td>\n",
              "    </tr>\n",
              "    <tr>\n",
              "      <th>LarsCV</th>\n",
              "      <td>-0.05</td>\n",
              "      <td>-0.01</td>\n",
              "      <td>316.81</td>\n",
              "      <td>0.06</td>\n",
              "    </tr>\n",
              "    <tr>\n",
              "      <th>LassoLarsCV</th>\n",
              "      <td>-0.05</td>\n",
              "      <td>-0.01</td>\n",
              "      <td>316.81</td>\n",
              "      <td>0.03</td>\n",
              "    </tr>\n",
              "    <tr>\n",
              "      <th>GammaRegressor</th>\n",
              "      <td>-0.05</td>\n",
              "      <td>-0.01</td>\n",
              "      <td>316.83</td>\n",
              "      <td>0.02</td>\n",
              "    </tr>\n",
              "    <tr>\n",
              "      <th>BayesianRidge</th>\n",
              "      <td>-0.05</td>\n",
              "      <td>-0.01</td>\n",
              "      <td>317.05</td>\n",
              "      <td>0.01</td>\n",
              "    </tr>\n",
              "    <tr>\n",
              "      <th>LassoCV</th>\n",
              "      <td>-0.05</td>\n",
              "      <td>-0.01</td>\n",
              "      <td>317.15</td>\n",
              "      <td>0.09</td>\n",
              "    </tr>\n",
              "    <tr>\n",
              "      <th>ElasticNet</th>\n",
              "      <td>-0.05</td>\n",
              "      <td>-0.01</td>\n",
              "      <td>317.43</td>\n",
              "      <td>0.01</td>\n",
              "    </tr>\n",
              "    <tr>\n",
              "      <th>LassoLarsIC</th>\n",
              "      <td>-0.06</td>\n",
              "      <td>-0.01</td>\n",
              "      <td>317.79</td>\n",
              "      <td>0.01</td>\n",
              "    </tr>\n",
              "    <tr>\n",
              "      <th>SVR</th>\n",
              "      <td>-0.06</td>\n",
              "      <td>-0.02</td>\n",
              "      <td>318.61</td>\n",
              "      <td>0.02</td>\n",
              "    </tr>\n",
              "    <tr>\n",
              "      <th>OrthogonalMatchingPursuitCV</th>\n",
              "      <td>-0.07</td>\n",
              "      <td>-0.02</td>\n",
              "      <td>319.41</td>\n",
              "      <td>0.02</td>\n",
              "    </tr>\n",
              "    <tr>\n",
              "      <th>Lasso</th>\n",
              "      <td>-0.07</td>\n",
              "      <td>-0.02</td>\n",
              "      <td>319.43</td>\n",
              "      <td>0.03</td>\n",
              "    </tr>\n",
              "    <tr>\n",
              "      <th>RidgeCV</th>\n",
              "      <td>-0.07</td>\n",
              "      <td>-0.03</td>\n",
              "      <td>319.57</td>\n",
              "      <td>0.01</td>\n",
              "    </tr>\n",
              "    <tr>\n",
              "      <th>Ridge</th>\n",
              "      <td>-0.07</td>\n",
              "      <td>-0.03</td>\n",
              "      <td>319.78</td>\n",
              "      <td>0.01</td>\n",
              "    </tr>\n",
              "    <tr>\n",
              "      <th>SGDRegressor</th>\n",
              "      <td>-0.07</td>\n",
              "      <td>-0.03</td>\n",
              "      <td>319.79</td>\n",
              "      <td>0.01</td>\n",
              "    </tr>\n",
              "    <tr>\n",
              "      <th>TransformedTargetRegressor</th>\n",
              "      <td>-0.07</td>\n",
              "      <td>-0.03</td>\n",
              "      <td>319.81</td>\n",
              "      <td>0.01</td>\n",
              "    </tr>\n",
              "    <tr>\n",
              "      <th>LinearRegression</th>\n",
              "      <td>-0.07</td>\n",
              "      <td>-0.03</td>\n",
              "      <td>319.81</td>\n",
              "      <td>0.02</td>\n",
              "    </tr>\n",
              "    <tr>\n",
              "      <th>Lars</th>\n",
              "      <td>-0.07</td>\n",
              "      <td>-0.03</td>\n",
              "      <td>319.81</td>\n",
              "      <td>0.03</td>\n",
              "    </tr>\n",
              "    <tr>\n",
              "      <th>PoissonRegressor</th>\n",
              "      <td>-0.07</td>\n",
              "      <td>-0.03</td>\n",
              "      <td>320.06</td>\n",
              "      <td>0.02</td>\n",
              "    </tr>\n",
              "    <tr>\n",
              "      <th>HuberRegressor</th>\n",
              "      <td>-0.09</td>\n",
              "      <td>-0.04</td>\n",
              "      <td>322.30</td>\n",
              "      <td>0.02</td>\n",
              "    </tr>\n",
              "    <tr>\n",
              "      <th>PassiveAggressiveRegressor</th>\n",
              "      <td>-0.10</td>\n",
              "      <td>-0.06</td>\n",
              "      <td>324.72</td>\n",
              "      <td>0.04</td>\n",
              "    </tr>\n",
              "    <tr>\n",
              "      <th>AdaBoostRegressor</th>\n",
              "      <td>-0.13</td>\n",
              "      <td>-0.08</td>\n",
              "      <td>328.12</td>\n",
              "      <td>0.03</td>\n",
              "    </tr>\n",
              "    <tr>\n",
              "      <th>RandomForestRegressor</th>\n",
              "      <td>-0.20</td>\n",
              "      <td>-0.15</td>\n",
              "      <td>338.37</td>\n",
              "      <td>0.22</td>\n",
              "    </tr>\n",
              "    <tr>\n",
              "      <th>GradientBoostingRegressor</th>\n",
              "      <td>-0.23</td>\n",
              "      <td>-0.18</td>\n",
              "      <td>342.33</td>\n",
              "      <td>0.11</td>\n",
              "    </tr>\n",
              "    <tr>\n",
              "      <th>KNeighborsRegressor</th>\n",
              "      <td>-0.25</td>\n",
              "      <td>-0.20</td>\n",
              "      <td>345.92</td>\n",
              "      <td>0.01</td>\n",
              "    </tr>\n",
              "    <tr>\n",
              "      <th>HistGradientBoostingRegressor</th>\n",
              "      <td>-0.28</td>\n",
              "      <td>-0.22</td>\n",
              "      <td>349.16</td>\n",
              "      <td>0.17</td>\n",
              "    </tr>\n",
              "    <tr>\n",
              "      <th>LGBMRegressor</th>\n",
              "      <td>-0.29</td>\n",
              "      <td>-0.24</td>\n",
              "      <td>351.33</td>\n",
              "      <td>0.04</td>\n",
              "    </tr>\n",
              "    <tr>\n",
              "      <th>BaggingRegressor</th>\n",
              "      <td>-0.29</td>\n",
              "      <td>-0.24</td>\n",
              "      <td>351.46</td>\n",
              "      <td>0.03</td>\n",
              "    </tr>\n",
              "    <tr>\n",
              "      <th>RANSACRegressor</th>\n",
              "      <td>-0.38</td>\n",
              "      <td>-0.33</td>\n",
              "      <td>363.39</td>\n",
              "      <td>0.07</td>\n",
              "    </tr>\n",
              "    <tr>\n",
              "      <th>ExtraTreesRegressor</th>\n",
              "      <td>-0.39</td>\n",
              "      <td>-0.33</td>\n",
              "      <td>363.90</td>\n",
              "      <td>0.15</td>\n",
              "    </tr>\n",
              "    <tr>\n",
              "      <th>XGBRegressor</th>\n",
              "      <td>-0.48</td>\n",
              "      <td>-0.42</td>\n",
              "      <td>376.53</td>\n",
              "      <td>0.05</td>\n",
              "    </tr>\n",
              "    <tr>\n",
              "      <th>ExtraTreeRegressor</th>\n",
              "      <td>-1.21</td>\n",
              "      <td>-1.12</td>\n",
              "      <td>459.63</td>\n",
              "      <td>0.01</td>\n",
              "    </tr>\n",
              "    <tr>\n",
              "      <th>DecisionTreeRegressor</th>\n",
              "      <td>-1.23</td>\n",
              "      <td>-1.14</td>\n",
              "      <td>461.22</td>\n",
              "      <td>0.01</td>\n",
              "    </tr>\n",
              "    <tr>\n",
              "      <th>LinearSVR</th>\n",
              "      <td>-6.97</td>\n",
              "      <td>-6.65</td>\n",
              "      <td>872.62</td>\n",
              "      <td>0.01</td>\n",
              "    </tr>\n",
              "    <tr>\n",
              "      <th>MLPRegressor</th>\n",
              "      <td>-13.11</td>\n",
              "      <td>-12.55</td>\n",
              "      <td>1161.46</td>\n",
              "      <td>0.81</td>\n",
              "    </tr>\n",
              "    <tr>\n",
              "      <th>KernelRidge</th>\n",
              "      <td>-14.11</td>\n",
              "      <td>-13.50</td>\n",
              "      <td>1201.65</td>\n",
              "      <td>0.04</td>\n",
              "    </tr>\n",
              "    <tr>\n",
              "      <th>GaussianProcessRegressor</th>\n",
              "      <td>-19.24</td>\n",
              "      <td>-18.42</td>\n",
              "      <td>1390.78</td>\n",
              "      <td>0.04</td>\n",
              "    </tr>\n",
              "  </tbody>\n",
              "</table>\n",
              "</div>"
            ],
            "text/plain": [
              "                               Adjusted R-Squared  ...  Time Taken\n",
              "Model                                              ...            \n",
              "OrthogonalMatchingPursuit                   -0.03  ...        0.01\n",
              "LassoLars                                   -0.04  ...        0.02\n",
              "DummyRegressor                              -0.05  ...        0.01\n",
              "NuSVR                                       -0.05  ...        0.03\n",
              "ElasticNetCV                                -0.05  ...        0.06\n",
              "GeneralizedLinearRegressor                  -0.05  ...        0.03\n",
              "TweedieRegressor                            -0.05  ...        0.01\n",
              "LarsCV                                      -0.05  ...        0.06\n",
              "LassoLarsCV                                 -0.05  ...        0.03\n",
              "GammaRegressor                              -0.05  ...        0.02\n",
              "BayesianRidge                               -0.05  ...        0.01\n",
              "LassoCV                                     -0.05  ...        0.09\n",
              "ElasticNet                                  -0.05  ...        0.01\n",
              "LassoLarsIC                                 -0.06  ...        0.01\n",
              "SVR                                         -0.06  ...        0.02\n",
              "OrthogonalMatchingPursuitCV                 -0.07  ...        0.02\n",
              "Lasso                                       -0.07  ...        0.03\n",
              "RidgeCV                                     -0.07  ...        0.01\n",
              "Ridge                                       -0.07  ...        0.01\n",
              "SGDRegressor                                -0.07  ...        0.01\n",
              "TransformedTargetRegressor                  -0.07  ...        0.01\n",
              "LinearRegression                            -0.07  ...        0.02\n",
              "Lars                                        -0.07  ...        0.03\n",
              "PoissonRegressor                            -0.07  ...        0.02\n",
              "HuberRegressor                              -0.09  ...        0.02\n",
              "PassiveAggressiveRegressor                  -0.10  ...        0.04\n",
              "AdaBoostRegressor                           -0.13  ...        0.03\n",
              "RandomForestRegressor                       -0.20  ...        0.22\n",
              "GradientBoostingRegressor                   -0.23  ...        0.11\n",
              "KNeighborsRegressor                         -0.25  ...        0.01\n",
              "HistGradientBoostingRegressor               -0.28  ...        0.17\n",
              "LGBMRegressor                               -0.29  ...        0.04\n",
              "BaggingRegressor                            -0.29  ...        0.03\n",
              "RANSACRegressor                             -0.38  ...        0.07\n",
              "ExtraTreesRegressor                         -0.39  ...        0.15\n",
              "XGBRegressor                                -0.48  ...        0.05\n",
              "ExtraTreeRegressor                          -1.21  ...        0.01\n",
              "DecisionTreeRegressor                       -1.23  ...        0.01\n",
              "LinearSVR                                   -6.97  ...        0.01\n",
              "MLPRegressor                               -13.11  ...        0.81\n",
              "KernelRidge                                -14.11  ...        0.04\n",
              "GaussianProcessRegressor                   -19.24  ...        0.04\n",
              "\n",
              "[42 rows x 4 columns]"
            ]
          },
          "metadata": {
            "tags": []
          },
          "execution_count": 36
        }
      ]
    }
  ]
}